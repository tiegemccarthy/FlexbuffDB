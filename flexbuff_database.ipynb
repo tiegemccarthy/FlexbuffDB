{
 "cells": [
  {
   "cell_type": "code",
   "execution_count": 3,
   "metadata": {},
   "outputs": [],
   "source": [
    "import re\n",
    "from datetime import datetime\n",
    "from astropy.time import Time\n",
    "import csv\n",
    "import MySQLdb as mariadb"
   ]
  },
  {
   "cell_type": "markdown",
   "metadata": {},
   "source": [
    "Best practice way to fully update the database each time\n",
    "\n",
    "1. Create a new table\n",
    "2. Load CSV file into new table\n",
    "3. Drop existing old table if exists\n",
    "4. rename current table to old (or could just remove)\n",
    "5. Rename new table to original"
   ]
  },
  {
   "cell_type": "code",
   "execution_count": 51,
   "metadata": {},
   "outputs": [],
   "source": [
    "db_name = \"flexbuff_test\"\n",
    "conn = mariadb.connect(user='auscope', passwd='password')\n",
    "cursor = conn.cursor()\n",
    "query = \"CREATE DATABASE IF NOT EXISTS \" + db_name +\";\"\n",
    "cursor.execute(query)\n",
    "conn.commit()\n",
    "query = \"USE \" + db_name\n",
    "cursor.execute(query)\n",
    "conn.commit()"
   ]
  },
  {
   "cell_type": "code",
   "execution_count": 52,
   "metadata": {},
   "outputs": [],
   "source": [
    "station_id = ['Ke', 'Yg', 'Hb', 'Ho']\n",
    "for ant in station_id:\n",
    "    query = \"CREATE TABLE IF NOT EXISTS \"+ ant + \"_NEW (ExpID VARCHAR(10) NOT NULL PRIMARY KEY, DataUsage BIGINT);\" \n",
    "    cursor.execute(query)\n",
    "    conn.commit()\n",
    "conn.close()"
   ]
  },
  {
   "cell_type": "code",
   "execution_count": 53,
   "metadata": {},
   "outputs": [],
   "source": [
    "conn = mariadb.connect(user='auscope', passwd='password', db=str(db_name))\n",
    "query = \"\"\"LOAD DATA LOCAL INFILE '/home/tiege/Documents/research/auscope/flexbuff_database/disk_used_test.txt'\n",
    "        REPLACE\n",
    "        INTO TABLE flexbuff_test.Ho_NEW\n",
    "        FIELDS TERMINATED BY ','\n",
    "        LINES TERMINATED BY '\\n'\n",
    "        (ExpID, DataUsage);\"\"\"\n",
    "cursor = conn.cursor()\n",
    "cursor.execute(query)\n",
    "conn.commit()\n",
    "\n",
    "# this adds the CSV file data to a given table - it adds things that are new - but does not remove things that no longer exist.\n"
   ]
  },
  {
   "cell_type": "code",
   "execution_count": 54,
   "metadata": {},
   "outputs": [],
   "source": [
    "conn = mariadb.connect(user='auscope', passwd='password', db=str(db_name))\n",
    "cursor = conn.cursor()\n",
    "for ant in station_id:\n",
    "    query = \"DROP TABLE IF EXISTS \" + ant + \"_OLD;\"\n",
    "    cursor.execute(query)\n",
    "    conn.commit()"
   ]
  },
  {
   "cell_type": "code",
   "execution_count": 55,
   "metadata": {},
   "outputs": [],
   "source": [
    "conn = mariadb.connect(user='auscope', passwd='password', db=str(db_name))\n",
    "cursor = conn.cursor()\n",
    "for ant in station_id:\n",
    "    query = \"ALTER TABLE \" + ant + \" RENAME TO \" + ant + \"_OLD;\"\n",
    "    cursor.execute(query)\n",
    "    conn.commit()\n"
   ]
  },
  {
   "cell_type": "code",
   "execution_count": 56,
   "metadata": {},
   "outputs": [],
   "source": [
    "conn = mariadb.connect(user='auscope', passwd='password', db=str(db_name))\n",
    "cursor = conn.cursor()\n",
    "for ant in station_id:\n",
    "    query = \"ALTER TABLE \" + ant + \"_NEW RENAME TO \" + ant + \";\"\n",
    "    cursor.execute(query)\n",
    "    conn.commit()\n"
   ]
  },
  {
   "cell_type": "code",
   "execution_count": 57,
   "metadata": {},
   "outputs": [],
   "source": [
    "#db_name = \"flexbuff_test\"\n",
    "#conn = mariadb.connect(user='auscope', passwd='password', db=str(db_name))\n",
    "#with open('disk_used.txt', newline='') as csvfile:\n",
    "#    disk_usage = csv.reader(csvfile, delimiter=',') \n",
    "#    for row in disk_usage:\n",
    "#        sql_command = \"INSERT IGNORE INTO {} (ExpID, DataUsage) VALUES (%s, %s);\".format(\"Ke\")\n",
    "#        data = [row[0], int(row[1])]      \n",
    "#        cursor = conn.cursor()\n",
    "#        cursor.execute(sql_command, data)\n",
    "#        conn.commit()\n",
    "#    conn.close()"
   ]
  },
  {
   "cell_type": "markdown",
   "metadata": {},
   "source": [
    "Try make loop more efficient:"
   ]
  },
  {
   "cell_type": "code",
   "execution_count": 70,
   "metadata": {},
   "outputs": [],
   "source": [
    "# Create database if it doesn't exist.\n",
    "db_name = \"flexbuff_test\"\n",
    "conn = mariadb.connect(user='auscope', passwd='password')\n",
    "cursor = conn.cursor()\n",
    "query = \"CREATE DATABASE IF NOT EXISTS \" + db_name +\";\"\n",
    "cursor.execute(query)\n",
    "conn.commit()\n",
    "query = \"USE \" + db_name\n",
    "cursor.execute(query)\n",
    "conn.commit()\n",
    "\n",
    "flexbuff_id = ['flexbuffke', 'flexbuffhb']\n",
    "for flexbuff in flexbuff_id:\n",
    "    # This process seems somewhat redundant but is best practice for ensuring table data is not deleted before ensuring new data has been loaded without errors.\n",
    "    # Create a table for the new inbound data named flexbuffXX_NEW\n",
    "    query = \"CREATE TABLE IF NOT EXISTS \"+ flexbuff + \"_NEW (ExpID VARCHAR(10) NOT NULL PRIMARY KEY, DataUsage BIGINT);\" \n",
    "    cursor.execute(query)\n",
    "    conn.commit()\n",
    "    # Create a temporary 'current' flexbuffXX table, this table will only not exist on a first run\n",
    "    query = \"CREATE TABLE IF NOT EXISTS \"+ flexbuff + \" (ExpID VARCHAR(10) NOT NULL PRIMARY KEY, DataUsage BIGINT);\" \n",
    "    cursor.execute(query)\n",
    "    conn.commit()\n",
    "    # Load CSV data into the newly created flexbuffXX_NEW table\n",
    "    query = \"LOAD DATA LOCAL INFILE '/home/tiege/Documents/research/auscope/flexbuff_database/disk_used_\" + flexbuff + \".csv' REPLACE INTO TABLE \"+ flexbuff + \"_NEW FIELDS TERMINATED BY ',' LINES TERMINATED BY '\\n' (ExpID, DataUsage);\"\n",
    "    cursor.execute(query)\n",
    "    conn.commit()\n",
    "    # Drop any existing flexbuffXX_OLD table (this will soon be replaced by the current flexbuffXX table)\n",
    "    query = \"DROP TABLE IF EXISTS \" + flexbuff + \"_OLD;\"\n",
    "    cursor.execute(query)\n",
    "    conn.commit()\n",
    "    # Rename current flexbuffXX table that is getting replaced to flexbuffXX_OLD\n",
    "    query = \"ALTER TABLE \" + flexbuff + \" RENAME TO \" + flexbuff + \"_OLD;\"\n",
    "    cursor.execute(query)\n",
    "    conn.commit()\n",
    "    # Rename the new data table flexbuffXX_NEW to flexbuffXX\n",
    "    query = \"ALTER TABLE \" + flexbuff + \"_NEW RENAME TO \" + flexbuff + \";\"\n",
    "    cursor.execute(query)\n",
    "    conn.commit()\n",
    "    "
   ]
  },
  {
   "cell_type": "markdown",
   "metadata": {},
   "source": [
    "Now I need to build in an scp component to grab the disk_usage files from flexbuff machines and rename them."
   ]
  },
  {
   "cell_type": "code",
   "execution_count": 4,
   "metadata": {},
   "outputs": [],
   "source": [
    "from paramiko import SSHClient\n",
    "from scp import SCPClient"
   ]
  },
  {
   "cell_type": "code",
   "execution_count": 3,
   "metadata": {},
   "outputs": [],
   "source": [
    "sshHb = SSHClient()\n",
    "sshHb.load_system_host_keys()\n",
    "sshHb.connect(hostname='flexbuffhb.phys.utas.edu.au', \n",
    "            #port = 'port',\n",
    "            username='observer',\n",
    "            #password=''\n",
    "            #pkey='load_key_if_relevant'\n",
    "           )\n",
    "\n",
    "scpHb = SCPClient(sshHb.get_transport())\n",
    "scpHb.get('/tmp/disk_used.txt', 'disk_used_flexbuffhb.csv')\n",
    "scpHb.close()\n",
    "sshHb.close()\n",
    "\n",
    "sshKe = SSHClient()\n",
    "sshKe.load_system_host_keys()\n",
    "sshKe.connect(hostname='flexbuffke.phys.utas.edu.au', \n",
    "            #port = 'port',\n",
    "            username='observer',\n",
    "            #password=''\n",
    "            #pkey='load_key_if_relevant'\n",
    "           )\n",
    "\n",
    "scpKe = SCPClient(sshKe.get_transport())\n",
    "scpKe.get('/tmp/disk_used.txt', 'disk_used_flexbuffke.csv')\n",
    "scpKe.close()\n",
    "sshKe.close()"
   ]
  },
  {
   "cell_type": "markdown",
   "metadata": {},
   "source": [
    "This works well but requires the password in plain text in the code. Need to figure out a way around this.\n",
    "\n",
    "^ sshkeys work"
   ]
  },
  {
   "cell_type": "markdown",
   "metadata": {},
   "source": [
    "Time to start writing the functions for the final script"
   ]
  },
  {
   "cell_type": "code",
   "execution_count": 5,
   "metadata": {},
   "outputs": [],
   "source": [
    "def flexbuffContentsPull(flexbuff_tag): # function for scp of disk_used.txt file from a given flexxbuff machine to cwd.\n",
    "    flexbuff_tag = str(flexbuff_tag)\n",
    "    ssh = SSHClient()\n",
    "    ssh.load_system_host_keys()\n",
    "    ssh.connect(hostname= flexbuff_tag + '.phys.utas.edu.au', \n",
    "                  username='observer',\n",
    "                  #password=''\n",
    "                 )\n",
    "\n",
    "    scp = SCPClient(ssh.get_transport())\n",
    "    scp.get('/tmp/disk_used.txt', 'disk_used_' + flexbuff_tag + '.csv')\n",
    "    scp.close()\n",
    "    ssh.close()"
   ]
  },
  {
   "cell_type": "code",
   "execution_count": 12,
   "metadata": {},
   "outputs": [],
   "source": [
    "def connectFlexbuffDB(db_name): # connects to an existing flexbuff SQL database or creates a new one if it doesn't exist.\n",
    "    db_name = str(db_name)\n",
    "    conn = mariadb.connect(user='auscope', passwd='password')\n",
    "    cursor = conn.cursor()\n",
    "    query = \"CREATE DATABASE IF NOT EXISTS \" + db_name +\";\"\n",
    "    cursor.execute(query)\n",
    "    conn.commit()\n",
    "    query = \"USE \" + db_name\n",
    "    cursor.execute(query)\n",
    "    conn.commit()\n",
    "# this function isnt really useful as I will need to reconnect again to add shit. May aswell write the initial connection into the main() function"
   ]
  },
  {
   "cell_type": "code",
   "execution_count": 16,
   "metadata": {},
   "outputs": [],
   "source": [
    "def updateFlexbuffContents(flexbuff_tag, db_name): # add data from disk_used file into the SQL database.\n",
    "    flexbuff_tag = str(flexbuff_tag)\n",
    "    db_name = str(db_name)\n",
    "    # connect to the database\n",
    "    conn = mariadb.connect(user='auscope', passwd='password', db=db_name)\n",
    "    cursor = conn.cursor()\n",
    "    # This process seems somewhat redundant but is best practice for ensuring table data is not deleted before ensuring new data has been loaded without errors.\n",
    "    # Create a table for the new inbound data named flexbuffXX_NEW\n",
    "    query = \"CREATE TABLE IF NOT EXISTS \"+ flexbuff_tag + \"_NEW (ExpID VARCHAR(10) NOT NULL PRIMARY KEY, DataUsage BIGINT);\" \n",
    "    cursor.execute(query)\n",
    "    conn.commit()\n",
    "    # Create a temporary 'current' flexbuffXX table, this table will only not exist on a first run\n",
    "    query = \"CREATE TABLE IF NOT EXISTS \"+ flexbuff_tag + \" (ExpID VARCHAR(10) NOT NULL PRIMARY KEY, DataUsage BIGINT);\" \n",
    "    cursor.execute(query)\n",
    "    conn.commit()\n",
    "    # Load CSV data into the newly created flexbuffXX_NEW table\n",
    "    query = \"LOAD DATA LOCAL INFILE '/home/tiege/Documents/research/auscope/flexbuff_database/disk_used_\" + flexbuff_tag + \".csv' REPLACE INTO TABLE \"+ flexbuff_tag + \"_NEW FIELDS TERMINATED BY ',' LINES TERMINATED BY '\\n' (ExpID, DataUsage);\"\n",
    "    cursor.execute(query)\n",
    "    conn.commit()\n",
    "    # Drop any existing flexbuffXX_OLD table (this will soon be replaced by the current flexbuffXX table)\n",
    "    query = \"DROP TABLE IF EXISTS \" + flexbuff_tag + \"_OLD;\"\n",
    "    cursor.execute(query)\n",
    "    conn.commit()\n",
    "    # Rename current flexbuffXX table that is getting replaced to flexbuffXX_OLD\n",
    "    query = \"ALTER TABLE \" + flexbuff_tag + \" RENAME TO \" + flexbuff_tag + \"_OLD;\"\n",
    "    cursor.execute(query)\n",
    "    conn.commit()\n",
    "    # Rename the new data table flexbuffXX_NEW to flexbuffXX\n",
    "    query = \"ALTER TABLE \" + flexbuff_tag + \"_NEW RENAME TO \" + flexbuff_tag + \";\"\n",
    "    cursor.execute(query)\n",
    "    conn.commit()\n"
   ]
  },
  {
   "cell_type": "code",
   "execution_count": 17,
   "metadata": {},
   "outputs": [],
   "source": [
    "def main(db_name):\n",
    "    db_name = str(db_name)\n",
    "    # create/connect to mariaDB flexbuff database\n",
    "    print('Connecting to mariaDB database ' + db_name + '.')\n",
    "    conn = mariadb.connect(user='auscope', passwd='password')\n",
    "    cursor = conn.cursor()\n",
    "    query = \"CREATE DATABASE IF NOT EXISTS \" + db_name +\";\"\n",
    "    cursor.execute(query)\n",
    "    conn.commit()\n",
    "    # setup the tags for the relevant flexbuff machines\n",
    "    flexbuff_id = ['flexbuffhb', 'flexbuffke', 'flexbuffyg', 'flexbuffcd']\n",
    "    # for each flexbuff machine, pull relevant disk usage data and add to the database\n",
    "    for flexbuff in flexbuff_id:\n",
    "        print('Pulling disk contents file from ' + flexbuff + '.')\n",
    "        flexbuffContentsPull(flexbuff)\n",
    "        print('Adding disk contents to the ' + flexbuff + ' table of the ' + db_name + ' mariaDB database.')\n",
    "        updateFlexbuffContents(flexbuff, db_name)"
   ]
  },
  {
   "cell_type": "code",
   "execution_count": 18,
   "metadata": {},
   "outputs": [
    {
     "name": "stdout",
     "output_type": "stream",
     "text": [
      "Connecting to mariaDB database flexbuff_test.\n",
      "Pulling disk contents file from flexbuffhb.\n",
      "Adding disk contents to the flexbuffhb table of the flexbuff_test mariaDB database.\n",
      "Pulling disk contents file from flexbuffke.\n",
      "Adding disk contents to the flexbuffke table of the flexbuff_test mariaDB database.\n",
      "Pulling disk contents file from flexbuffyg.\n",
      "Adding disk contents to the flexbuffyg table of the flexbuff_test mariaDB database.\n",
      "Pulling disk contents file from flexbuffcd.\n",
      "Adding disk contents to the flexbuffcd table of the flexbuff_test mariaDB database.\n"
     ]
    }
   ],
   "source": [
    "main('flexbuff_test')"
   ]
  },
  {
   "cell_type": "code",
   "execution_count": null,
   "metadata": {},
   "outputs": [],
   "source": []
  }
 ],
 "metadata": {
  "kernelspec": {
   "display_name": "Python 3",
   "language": "python",
   "name": "python3"
  },
  "language_info": {
   "codemirror_mode": {
    "name": "ipython",
    "version": 3
   },
   "file_extension": ".py",
   "mimetype": "text/x-python",
   "name": "python",
   "nbconvert_exporter": "python",
   "pygments_lexer": "ipython3",
   "version": "3.8.3"
  }
 },
 "nbformat": 4,
 "nbformat_minor": 4
}
